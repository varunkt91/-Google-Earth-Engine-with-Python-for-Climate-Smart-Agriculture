{
 "cells": [
  {
   "cell_type": "markdown",
   "metadata": {},
   "source": [
    "# Visualization of single band image (SRTM)"
   ]
  },
  {
   "cell_type": "code",
   "execution_count": 39,
   "metadata": {},
   "outputs": [],
   "source": [
    "# Installs geemap package\n",
    "import subprocess\n",
    "\n",
    "try:\n",
    "    import geemap\n",
    "except ImportError:\n",
    "    print('geemap package not installed. Installing ...')\n",
    "    subprocess.check_call([\"python\", '-m', 'pip', 'install', 'geemap'])\n",
    "\n",
    "\n",
    "# Authenticates and initializes Earth Engine\n",
    "import ee\n",
    "import geemap\n",
    "\n",
    "try:\n",
    "    ee.Initialize()\n",
    "except Exception as e:\n",
    "    ee.Authenticate()\n",
    "    ee.Initialize()"
   ]
  },
  {
   "cell_type": "markdown",
   "metadata": {},
   "source": [
    "# Add a Base Map"
   ]
  },
  {
   "cell_type": "code",
   "execution_count": 40,
   "metadata": {},
   "outputs": [
    {
     "name": "stdout",
     "output_type": "stream",
     "text": [
      "layer already on map: TileLayer(attribution='Google', name='Google Maps', options=['attribution', 'detect_retina', 'max_native_zoom', 'max_zoom', 'min_native_zoom', 'min_zoom', 'no_wrap', 'tile_size', 'tms'], url='https://mt1.google.com/vt/lyrs=m&x={x}&y={y}&z={z}')\n",
      "Basemap can only be one of the following:\n",
      "  ROADMAP\n",
      "  SATELLITE\n",
      "  TERRAIN\n",
      "  HYBRID\n",
      "  ESRI\n",
      "  Esri Ocean\n",
      "  Esri Satellite\n",
      "  Esri Standard\n",
      "  Esri Terrain\n",
      "  Esri Transportation\n",
      "  Esri Topo World\n",
      "  Esri National Geographic\n",
      "  Esri Shaded Relief\n",
      "  Esri Physical Map\n",
      "  FWS NWI Wetlands\n",
      "  FWS NWI Wetlands Raster\n",
      "  Google Maps\n",
      "  Google Satellite\n",
      "  Google Terrain\n",
      "  Google Satellite Hybrid\n",
      "  NLCD 2016 CONUS Land Cover\n",
      "  NLCD 2013 CONUS Land Cover\n",
      "  NLCD 2011 CONUS Land Cover\n",
      "  NLCD 2008 CONUS Land Cover\n",
      "  NLCD 2006 CONUS Land Cover\n",
      "  NLCD 2004 CONUS Land Cover\n",
      "  NLCD 2001 CONUS Land Cover\n",
      "  USGS NAIP Imagery\n",
      "  USGS Hydrography\n",
      "  USGS 3DEP Elevation\n",
      "  OpenStreetMap.Mapnik\n",
      "  OpenStreetMap.BlackAndWhite\n",
      "  OpenStreetMap.DE\n",
      "  OpenStreetMap.France\n",
      "  OpenStreetMap.HOT\n",
      "  OpenTopoMap\n",
      "  Hydda.Full\n",
      "  Hydda.Base\n",
      "  Esri.WorldStreetMap\n",
      "  Esri.DeLorme\n",
      "  Esri.WorldTopoMap\n",
      "  Esri.WorldImagery\n",
      "  Esri.NatGeoWorldMap\n",
      "  HikeBike.HikeBike\n",
      "  MtbMap\n",
      "  CartoDB.Positron\n",
      "  CartoDB.DarkMatter\n",
      "  NASAGIBS.ModisTerraTrueColorCR\n",
      "  NASAGIBS.ModisTerraBands367CR\n",
      "  NASAGIBS.ModisTerraBands721CR\n",
      "  NASAGIBS.ModisAquaTrueColorCR\n",
      "  NASAGIBS.ModisAquaBands721CR\n",
      "  NASAGIBS.ViirsTrueColorCR\n",
      "  NASAGIBS.ViirsEarthAtNight2012\n",
      "  Strava.All\n",
      "  Strava.Ride\n",
      "  Strava.Run\n",
      "  Strava.Water\n",
      "  Strava.Winter\n",
      "  Stamen.Terrain\n",
      "  Stamen.Toner\n",
      "  Stamen.Watercolor\n"
     ]
    },
    {
     "data": {
      "application/vnd.jupyter.widget-view+json": {
       "model_id": "621f32b620b74784b16fca8b9575562c",
       "version_major": 2,
       "version_minor": 0
      },
      "text/plain": [
       "Map(center=[27, 78], controls=(WidgetControl(options=['position'], widget=HBox(children=(ToggleButton(value=Fa…"
      ]
     },
     "metadata": {},
     "output_type": "display_data"
    }
   ],
   "source": [
    "Map = geemap.Map(center=[27,78], zoom=4)\n",
    "Map.add_basemap('ROADMAP') # Add Google Map\n",
    "\n",
    "Map"
   ]
  },
  {
   "cell_type": "markdown",
   "metadata": {},
   "source": [
    "# Call SRTM"
   ]
  },
  {
   "cell_type": "code",
   "execution_count": 41,
   "metadata": {},
   "outputs": [],
   "source": [
    "srtm=ee.Image(\"USGS/SRTMGL1_003\")\n"
   ]
  },
  {
   "cell_type": "markdown",
   "metadata": {},
   "source": [
    "# Get information about the bands as a list."
   ]
  },
  {
   "cell_type": "code",
   "execution_count": 42,
   "metadata": {},
   "outputs": [
    {
     "name": "stdout",
     "output_type": "stream",
     "text": [
      "Band names:  ['elevation']\n"
     ]
    }
   ],
   "source": [
    "bandNames = srtm.bandNames()\n",
    "print('Band names: ', bandNames.getInfo())"
   ]
  },
  {
   "cell_type": "markdown",
   "metadata": {},
   "source": [
    "# How to check resolution"
   ]
  },
  {
   "cell_type": "code",
   "execution_count": 43,
   "metadata": {},
   "outputs": [
    {
     "name": "stdout",
     "output_type": "stream",
     "text": [
      "Band 1 scale:  30.922080775909325\n"
     ]
    }
   ],
   "source": [
    "b1scale = srtm.projection().nominalScale()\n",
    "print('Band 1 scale: ', b1scale.getInfo())"
   ]
  },
  {
   "cell_type": "markdown",
   "metadata": {},
   "source": [
    "# Add SRTM to map"
   ]
  },
  {
   "cell_type": "code",
   "execution_count": 44,
   "metadata": {},
   "outputs": [],
   "source": [
    "#Visualization data in grey scale\n",
    "Map.addLayer(srtm,{'min': 0,'max': 8884},'SRTM_30m')\n"
   ]
  },
  {
   "cell_type": "code",
   "execution_count": 45,
   "metadata": {},
   "outputs": [],
   "source": [
    "# assigning colours to srtm\n",
    "vis_params = {\n",
    "  'min': 0,\n",
    "  'max': 8884,\n",
    "  'palette': ['006633', 'E5FFCC', '662A00', 'D8D8D8', 'F5F5F5']}\n",
    "Map.addLayerControl()\n",
    "Map.addLayer(srtm,vis_params,'SRTM_30m')"
   ]
  }
 ],
 "metadata": {
  "celltoolbar": "Raw Cell Format",
  "kernelspec": {
   "display_name": "Python 3",
   "language": "python",
   "name": "python3"
  },
  "language_info": {
   "codemirror_mode": {
    "name": "ipython",
    "version": 3
   },
   "file_extension": ".py",
   "mimetype": "text/x-python",
   "name": "python",
   "nbconvert_exporter": "python",
   "pygments_lexer": "ipython3",
   "version": "3.7.6"
  }
 },
 "nbformat": 4,
 "nbformat_minor": 4
}
