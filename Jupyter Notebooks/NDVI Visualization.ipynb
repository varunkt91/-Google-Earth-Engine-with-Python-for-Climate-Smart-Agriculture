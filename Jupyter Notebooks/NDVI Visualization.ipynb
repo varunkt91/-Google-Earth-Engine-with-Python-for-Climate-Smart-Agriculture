{
 "cells": [
  {
   "cell_type": "code",
   "execution_count": 81,
   "metadata": {},
   "outputs": [],
   "source": [
    "# Installs geemap package\n",
    "import subprocess\n",
    "\n",
    "try:\n",
    "    import geemap\n",
    "except ImportError:\n",
    "    print('geemap package not installed. Installing ...')\n",
    "    subprocess.check_call([\"python\", '-m', 'pip', 'install', 'geemap'])\n",
    "\n",
    "\n",
    "# Authenticates and initializes Earth Engine\n",
    "import ee\n",
    "import geemap\n",
    "\n",
    "try:\n",
    "    ee.Initialize()\n",
    "except Exception as e:\n",
    "    ee.Authenticate()\n",
    "    ee.Initialize()"
   ]
  },
  {
   "cell_type": "markdown",
   "metadata": {},
   "source": [
    "# Add Base map"
   ]
  },
  {
   "cell_type": "code",
   "execution_count": 82,
   "metadata": {},
   "outputs": [
    {
     "data": {
      "application/vnd.jupyter.widget-view+json": {
       "model_id": "352a32ce00284280839d0dfe0128be9d",
       "version_major": 2,
       "version_minor": 0
      },
      "text/plain": [
       "Map(center=[27, 78], controls=(WidgetControl(options=['position'], widget=HBox(children=(ToggleButton(value=Fa…"
      ]
     },
     "metadata": {},
     "output_type": "display_data"
    }
   ],
   "source": [
    "Map = geemap.Map(center=[27,78], zoom=4) # Center is the Lat, Long of a specific location; Zoome defines the level of zoom.\n",
    "Map.add_basemap('SATELLITE') # Add Google Map\n",
    "\n",
    "Map"
   ]
  },
  {
   "cell_type": "markdown",
   "metadata": {},
   "source": [
    "# Add MODIS NDVI Data"
   ]
  },
  {
   "cell_type": "code",
   "execution_count": 83,
   "metadata": {},
   "outputs": [],
   "source": [
    "# change date for visualize data for different year\n",
    "# select('EVI') to visualze EVI\n",
    "image=ee.ImageCollection('MODIS/006/MOD13A1')\n",
    "NDVI= image.filter(ee.Filter.date('2018-01-01', '2018-05-01')).select('NDVI') "
   ]
  },
  {
   "cell_type": "markdown",
   "metadata": {},
   "source": [
    "# Get a list of all metadata properties."
   ]
  },
  {
   "cell_type": "code",
   "execution_count": 84,
   "metadata": {},
   "outputs": [
    {
     "name": "stdout",
     "output_type": "stream",
     "text": [
      "Metadata properties:  ['system:visualization_0_min', 'type_name', 'thumb', 'description', 'source_tags', 'system:id', 'visualization_0_max', 'title', 'visualization_0_gain', 'system:visualization_0_gain', 'product_tags', 'provider', 'visualization_0_min', 'system:version', 'visualization_0_name', 'date_range', 'period', 'system:visualization_0_bands', 'system:is_global', 'provider_url', 'sample', 'tags', 'system:visualization_0_max', 'visualization_0_palette', 'system:visualization_0_palette', 'system:visualization_0_name', 'visualization_0_bands']\n"
     ]
    }
   ],
   "source": [
    "properties = image.propertyNames()\n",
    "print('Metadata properties: ', properties.getInfo())"
   ]
  },
  {
   "cell_type": "markdown",
   "metadata": {},
   "source": [
    "# Add NDVI layer to map"
   ]
  },
  {
   "cell_type": "code",
   "execution_count": 85,
   "metadata": {},
   "outputs": [],
   "source": [
    "Map.addLayer(NDVI, {'min': -10000,\n",
    "  'max': 10000,\n",
    "  'palette': ['red', 'orange', 'yellow', 'green', 'blue']}, 'NDVI') # add landcover layer"
   ]
  },
  {
   "cell_type": "code",
   "execution_count": null,
   "metadata": {},
   "outputs": [],
   "source": []
  }
 ],
 "metadata": {
  "kernelspec": {
   "display_name": "Python 3",
   "language": "python",
   "name": "python3"
  },
  "language_info": {
   "codemirror_mode": {
    "name": "ipython",
    "version": 3
   },
   "file_extension": ".py",
   "mimetype": "text/x-python",
   "name": "python",
   "nbconvert_exporter": "python",
   "pygments_lexer": "ipython3",
   "version": "3.7.6"
  }
 },
 "nbformat": 4,
 "nbformat_minor": 4
}
