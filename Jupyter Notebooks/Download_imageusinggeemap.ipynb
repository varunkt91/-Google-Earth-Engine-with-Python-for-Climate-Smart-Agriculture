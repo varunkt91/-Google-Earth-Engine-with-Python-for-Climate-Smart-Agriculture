{
 "cells": [
  {
   "cell_type": "markdown",
   "id": "adcab272",
   "metadata": {},
   "source": [
    "# import required library"
   ]
  },
  {
   "cell_type": "code",
   "execution_count": 19,
   "id": "0b661fb4",
   "metadata": {},
   "outputs": [],
   "source": [
    "import ee\n",
    "import geemap\n",
    "import os"
   ]
  },
  {
   "cell_type": "markdown",
   "id": "5942e9bf",
   "metadata": {},
   "source": [
    "# Visualize base map"
   ]
  },
  {
   "cell_type": "code",
   "execution_count": 20,
   "id": "0ea3c13f",
   "metadata": {},
   "outputs": [
    {
     "data": {
      "application/vnd.jupyter.widget-view+json": {
       "model_id": "d5c9ab3b7f4b4385bb1e222837fa513e",
       "version_major": 2,
       "version_minor": 0
      },
      "text/plain": [
       "Map(center=[40, -100], controls=(WidgetControl(options=['position'], widget=HBox(children=(ToggleButton(value=…"
      ]
     },
     "metadata": {},
     "output_type": "display_data"
    }
   ],
   "source": [
    "Map = geemap.Map()\n",
    "Map"
   ]
  },
  {
   "cell_type": "code",
   "execution_count": 32,
   "id": "c546984e",
   "metadata": {},
   "outputs": [],
   "source": [
    "image = ee.Image('LE7_TOA_5YEAR/1999_2003')\n",
    "\n",
    "landsat_vis = {\n",
    "    'bands': ['B4', 'B3', 'B2'], \n",
    "    'gamma': 1.4\n",
    "}\n",
    "Map.addLayer(image, landsat_vis, \"LE7_TOA_5YEAR/1999_2003\", True, 0.7)"
   ]
  },
  {
   "cell_type": "code",
   "execution_count": 33,
   "id": "cf34367f",
   "metadata": {},
   "outputs": [],
   "source": [
    "imagels=ee.Image('LANDSAT/LC08/C01/T1_RT/LC08_142044_20150421')\n",
    "Map.addLayer(imagels,{},'LS_8')\n",
    "\n",
    "Map.centerObject(imagels, 7)"
   ]
  },
  {
   "cell_type": "code",
   "execution_count": 34,
   "id": "0a86b09f",
   "metadata": {},
   "outputs": [],
   "source": [
    "# Draw any shapes on the map using the Drawing tools before executing this code block\n",
    "feature = Map.draw_last_feature\n",
    "\n",
    "if feature is None:\n",
    "    geom = ee.Geometry.Polygon([[[-115.413031, 35.889467],\n",
    "    [-115.413031, 36.543157],\n",
    "    [-114.034328, 36.543157],\n",
    "    [-114.034328, 35.889467],\n",
    "    [-115.413031, 35.889467]]])\n",
    "    feature = ee.Feature(geom, {})\n",
    "\n",
    "roi = feature.geometry()"
   ]
  },
  {
   "cell_type": "code",
   "execution_count": 35,
   "id": "eb36c88f",
   "metadata": {},
   "outputs": [],
   "source": [
    "out_dir = os.path.join(os.path.expanduser('~'), 'Downloads')\n",
    "filename = os.path.join(out_dir, 'Image_export.tif')"
   ]
  },
  {
   "cell_type": "markdown",
   "id": "e7bd1f2a",
   "metadata": {},
   "source": [
    "# image export to local desktop"
   ]
  },
  {
   "cell_type": "code",
   "execution_count": 36,
   "id": "2131124e",
   "metadata": {},
   "outputs": [
    {
     "name": "stdout",
     "output_type": "stream",
     "text": [
      "Generating URL ...\n",
      "Downloading data from https://earthengine.googleapis.com/v1alpha/projects/earthengine-legacy/thumbnails/f4a323c631e88141d04305560eb5a7ed-e0b1a23bee8bf17e7a9c05ff9981bd35:getPixels\n",
      "Please wait ...\n",
      "Data downloaded to C:\\Users\\vtiwari\\Downloads\\Image_export.tif\n"
     ]
    }
   ],
   "source": [
    "image = imagels.clip(roi).unmask()\n",
    "geemap.ee_export_image(imagels, filename=filename, scale=30, region=roi, file_per_band=False)"
   ]
  },
  {
   "cell_type": "code",
   "execution_count": 44,
   "id": "af05a20c",
   "metadata": {},
   "outputs": [
    {
     "name": "stdout",
     "output_type": "stream",
     "text": [
      "Exporting python_exp ...\n"
     ]
    }
   ],
   "source": [
    "geemap.ee_export_image_to_drive(imagels, description='python_exp', region=roi, scale=30, file_format='GeoTIFF')"
   ]
  },
  {
   "cell_type": "code",
   "execution_count": null,
   "id": "a5735725",
   "metadata": {},
   "outputs": [],
   "source": []
  }
 ],
 "metadata": {
  "kernelspec": {
   "display_name": "Python 3",
   "language": "python",
   "name": "python3"
  },
  "language_info": {
   "codemirror_mode": {
    "name": "ipython",
    "version": 3
   },
   "file_extension": ".py",
   "mimetype": "text/x-python",
   "name": "python",
   "nbconvert_exporter": "python",
   "pygments_lexer": "ipython3",
   "version": "3.9.4"
  }
 },
 "nbformat": 4,
 "nbformat_minor": 5
}
